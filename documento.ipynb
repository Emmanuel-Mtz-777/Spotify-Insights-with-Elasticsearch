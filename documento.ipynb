{
 "cells": [
  {
   "cell_type": "markdown",
   "id": "972fe650",
   "metadata": {},
   "source": [
    "Problematica \n",
    "Análisis de tendencias musicales a lo largo de los años.\n",
    "Queremos analizar cómo ha evolucionado la popularidad de la música en diferentes géneros y cómo algunas características como la energía, bailabilidad, acústica y loudness han cambiado a lo largo de los años. A través de este análisis, se busca entender cómo los gustos musicales han cambiado y qué características de las canciones se correlacionan más con la popularidad a lo largo del tiempo.\n"
   ]
  },
  {
   "cell_type": "code",
   "execution_count": 20,
   "id": "0e77cffc",
   "metadata": {},
   "outputs": [],
   "source": [
    "from elasticsearch import Elasticsearch\n",
    "from elasticsearch import helpers\n",
    "import json"
   ]
  },
  {
   "cell_type": "markdown",
   "id": "a9506dd7",
   "metadata": {},
   "source": [
    "COdigo principla: ElasticSearchProvider.\n",
    "Este código sirve para conectarse a un servidor llamado Elasticsearch que está en tu computadora. Su función principal es leer un archivo de texto donde cada línea tiene datos en formato JSON (por ejemplo, información de canciones) y luego guardar todos esos datos en una especie de base de datos llamada \"spotify-insights\". Lo hace todo de forma rápida y automática. Además, cuando termina de cargar los datos, cierra la conexión con el servidor para no dejarla abierta. Es útil si tienes muchos datos y quieres guardarlos en un lugar donde luego puedas buscarlos fácilmente."
   ]
  },
  {
   "cell_type": "code",
   "execution_count": null,
   "id": "a9c270c7",
   "metadata": {},
   "outputs": [],
   "source": [
    "class ElasticSearchProvider:\n",
    "\n",
    "    def __init__(self):\n",
    "        self.host = \"http://localhost:9200\"\n",
    "        #self.user = str(user)\n",
    "        #self.password = str(password)\n",
    "        self.index = \"spotify-insights\"\n",
    "        self.index_type =\"_doc\"\n",
    "        self.connection = Elasticsearch(self.host)\n",
    "\n",
    "    def __enter__(self):\n",
    "        try:\n",
    "            self.connection=Elasticsearch(self.host)\n",
    "            return self\n",
    "        except Exception as e:\n",
    "            return{\n",
    "                \"StatusCode\":500,\n",
    "                \"body\":json.dumps({\n",
    "                    \"Message\":str(e)\n",
    "                })\n",
    "            }\n",
    "\n",
    "    def insertDataJson(self, file_path):\n",
    "            try:\n",
    "                with open(file_path, \"r\", encoding=\"utf-8\") as file:\n",
    "                    documents = [\n",
    "                        {\"_index\": self.index, \"_source\": json.loads(line.strip())}\n",
    "                        for line in file\n",
    "                    ]\n",
    "                if documents:\n",
    "                    helpers.bulk(self.connection, documents)\n",
    "                    print(f\"{len(documents)} documentos insertados en {self.index}\")\n",
    "            except Exception as e:\n",
    "                print(f\"Error al insertar datos: {str(e)}\")\n",
    "\n",
    "    def __exit__(self, exception_type, exception_value, traceback):\n",
    "        self.connection.transport.close()\n"
   ]
  },
  {
   "cell_type": "markdown",
   "id": "9c1a785d",
   "metadata": {},
   "source": [
    "Lista de consultas\n"
   ]
  },
  {
   "cell_type": "markdown",
   "id": "92ca106c",
   "metadata": {},
   "source": [
    "1.- Top 10 canciones más populares por género:"
   ]
  },
  {
   "cell_type": "code",
   "execution_count": null,
   "id": "96f50bd8",
   "metadata": {},
   "outputs": [
    {
     "name": "stdout",
     "output_type": "stream",
     "text": [
      "Error: BadRequestError(400, 'media_type_header_exception', 'Invalid media-type value on headers [Accept, Content-Type]')\n",
      "No se obtuvo respuesta de Elasticsearch.\n"
     ]
    }
   ],
   "source": [
    "def showMostPopularbyGenre(self):\n",
    "        try:\n",
    "            response=self.connection.search(\n",
    "                index=self.index,\n",
    "                body={\n",
    "                    \"size\": 0,\n",
    "                    \"aggs\": {\n",
    "                        \"top_genres\": {\n",
    "                        \"terms\": {\n",
    "                            \"field\": \"genre\",\n",
    "                            \"size\": 10\n",
    "                        },\n",
    "                        \"aggs\": {\n",
    "                            \"top_tracks\": {\n",
    "                            \"top_hits\": {\n",
    "                                \"size\": 10,\n",
    "                                \"_source\": [\"track_name\", \"artist_name\", \"popularity\"]\n",
    "                                }\n",
    "                            }\n",
    "                        }\n",
    "                    }\n",
    "                }\n",
    "            }\n",
    "            )\n",
    "            return response\n",
    "            \n",
    "        except Exception as e:\n",
    "            print(f\"Error: {str(e)}\")"
   ]
  },
  {
   "cell_type": "markdown",
   "id": "c0a07cc1",
   "metadata": {},
   "source": [
    "2.- Top 5 canciones más populares de un artista específico."
   ]
  },
  {
   "cell_type": "code",
   "execution_count": null,
   "id": "5884574b",
   "metadata": {},
   "outputs": [],
   "source": [
    "def showMostPopularbyArtist(self,name):\n",
    "        try:\n",
    "            response=self.connection.search(\n",
    "                index=self.index,\n",
    "                body={\n",
    "                    \"size\": 5,\n",
    "                    \"query\": {\n",
    "                        \"match\": {\n",
    "                        \"artist_name\": name \n",
    "                        }\n",
    "                    },\n",
    "                    \"aggs\": {\n",
    "                        \"top_tracks\": {\n",
    "                        \"terms\": {\n",
    "                            \"field\": \"track_name.keyword\",  \n",
    "                        },\n",
    "                        \"aggs\": {\n",
    "                            \"popular_tracks\": {\n",
    "                            \"top_hits\": {\n",
    "                                \"size\": 5,\n",
    "                                \"_source\": [\"track_name\", \"popularity\"]\n",
    "                            }\n",
    "                            }\n",
    "                        }\n",
    "                        }\n",
    "                    }\n",
    "                }\n",
    "            )\n",
    "            return response\n",
    "            \n",
    "        except Exception as e:\n",
    "            print(f\"Error: {str(e)}\")"
   ]
  },
  {
   "cell_type": "markdown",
   "id": "630f6cc4",
   "metadata": {},
   "source": [
    "3.-Promedio de la popularidad por año."
   ]
  },
  {
   "cell_type": "code",
   "execution_count": null,
   "id": "bfca5182",
   "metadata": {},
   "outputs": [],
   "source": [
    "def showMostPopularGenrebyYear(self):\n",
    "        try:\n",
    "            response=self.connection.search(\n",
    "                index=self.index,\n",
    "                body={\n",
    "                    \"size\": 0,\n",
    "                    \"aggs\": {\n",
    "                        \"avg_popularity_by_genre\": {\n",
    "                        \"terms\": {\n",
    "                            \"field\": \"genre\",\n",
    "                            \"size\": 20\n",
    "                        },\n",
    "                        \"aggs\": {\n",
    "                            \"avg_popularity\": {\n",
    "                            \"avg\": {\n",
    "                                \"field\": \"popularity\"\n",
    "                            }\n",
    "                            }\n",
    "                        }\n",
    "                        }\n",
    "                    }\n",
    "                    }\n",
    "            )\n",
    "            return response\n",
    "            \n",
    "        except Exception as e:\n",
    "            print(f\"Error: {str(e)}\")"
   ]
  },
  {
   "cell_type": "markdown",
   "id": "3a9b4e8e",
   "metadata": {},
   "source": [
    "4.-Top 5 géneros más populares en un año específico."
   ]
  },
  {
   "cell_type": "code",
   "execution_count": null,
   "id": "af77f182",
   "metadata": {},
   "outputs": [],
   "source": [
    "def showMostPopularGenrebySpecificYear(self,year):\n",
    "        try:\n",
    "            response=self.connection.search(\n",
    "                index=self.index,\n",
    "                body={\n",
    "                    \"size\": 0,\n",
    "                    \"query\": {\n",
    "                        \"term\": {\n",
    "                        \"year\": year\n",
    "                        }\n",
    "                    },\n",
    "                    \"aggs\": {\n",
    "                        \"top_genres\": {\n",
    "                        \"terms\": {\n",
    "                            \"field\": \"genre\",\n",
    "                            \"size\": 5\n",
    "                        },\n",
    "                        \"aggs\": {\n",
    "                            \"avg_popularity\": {\n",
    "                            \"avg\": {\n",
    "                                \"field\": \"popularity\"\n",
    "                            }\n",
    "                            }\n",
    "                        }\n",
    "                        }\n",
    "                    }\n",
    "                    }\n",
    "            )\n",
    "            return response\n",
    "            \n",
    "        except Exception as e:\n",
    "            print(f\"Error: {str(e)}\")"
   ]
  },
  {
   "cell_type": "markdown",
   "id": "cadfca92",
   "metadata": {},
   "source": [
    "5.-Top 10 canciones con la mayor energía."
   ]
  },
  {
   "cell_type": "code",
   "execution_count": null,
   "id": "b46618c2",
   "metadata": {},
   "outputs": [],
   "source": [
    "def showSongsWhittheMostEnegy(self):\n",
    "        try:\n",
    "            response=self.connection.search(\n",
    "                index=self.index,\n",
    "                body={\n",
    "                    \"size\": 0,\n",
    "                    \"aggs\": {\n",
    "                        \"top_energy_songs\": {\n",
    "                        \"top_hits\": {\n",
    "                            \"size\": 10,\n",
    "                            \"_source\": [\"track_name\", \"artist_name\", \"energy\"],\n",
    "                            \"sort\": [\n",
    "                            {\n",
    "                                \"energy\": {\n",
    "                                \"order\": \"desc\"\n",
    "                                }\n",
    "                            }\n",
    "                            ]\n",
    "                        }\n",
    "                        }\n",
    "                    }\n",
    "                    }\n",
    "            )\n",
    "            return response\n",
    "            \n",
    "        except Exception as e:\n",
    "            print(f\"Error: {str(e)}\")"
   ]
  },
  {
   "cell_type": "markdown",
   "id": "e4033deb",
   "metadata": {},
   "source": [
    "6-. Top 10 canciones más \"acústicas\"."
   ]
  },
  {
   "cell_type": "code",
   "execution_count": null,
   "id": "41ccc273",
   "metadata": {},
   "outputs": [],
   "source": [
    "def showSongsWhitMostAcustic(self):\n",
    "        try:\n",
    "            response=self.connection.search(\n",
    "                index=self.index,\n",
    "                body={\n",
    "                    \"size\": 0,\n",
    "                    \"aggs\": {\n",
    "                        \"top_acoustic_songs\": {\n",
    "                        \"top_hits\": {\n",
    "                            \"size\": 10,\n",
    "                            \"_source\": [\"track_name\", \"artist_name\", \"acousticness\"],\n",
    "                            \"sort\": [\n",
    "                            {\n",
    "                                \"acousticness\": {\n",
    "                                \"order\": \"desc\"\n",
    "                                }\n",
    "                            }\n",
    "                            ]\n",
    "                        }\n",
    "                        }\n",
    "                    }\n",
    "                    }\n",
    "            )\n",
    "            return response\n",
    "            \n",
    "        except Exception as e:\n",
    "            print(f\"Error: {str(e)}\")"
   ]
  },
  {
   "cell_type": "markdown",
   "id": "0eeeacdf",
   "metadata": {},
   "source": [
    "7.- Promedio de \"valence\" por año."
   ]
  },
  {
   "cell_type": "code",
   "execution_count": null,
   "id": "bf0692b6",
   "metadata": {},
   "outputs": [],
   "source": [
    "def showPromValencebyYear(self):\n",
    "        try:\n",
    "            response=self.connection.search(\n",
    "                index=self.index,\n",
    "                body={\n",
    "                    \"size\": 0,\n",
    "                    \"aggs\": {\n",
    "                        \"avg_valence_by_year\": {\n",
    "                        \"terms\": {\n",
    "                            \"field\": \"year\",\n",
    "                            \"size\": 10000  \n",
    "                        },\n",
    "                        \"aggs\": {\n",
    "                            \"avg_valence\": {\n",
    "                            \"avg\": {\n",
    "                                \"field\": \"valence\"\n",
    "                            }\n",
    "                            }\n",
    "                        }\n",
    "                        }\n",
    "                    }\n",
    "                    }\n",
    "            )\n",
    "            return response\n",
    "            \n",
    "        except Exception as e:\n",
    "            print(f\"Error: {str(e)}\")"
   ]
  },
  {
   "cell_type": "markdown",
   "id": "2ed11fb1",
   "metadata": {},
   "source": [
    "8.- Distribución de las canciones por \"mode\" (mayoría mayor o menor)."
   ]
  },
  {
   "cell_type": "code",
   "execution_count": null,
   "id": "4562bf0b",
   "metadata": {},
   "outputs": [],
   "source": [
    "def showModebySongs(self):\n",
    "        try:\n",
    "            response=self.connection.search(\n",
    "                index=self.index,\n",
    "                body={\n",
    "                    \"size\": 0,\n",
    "                    \"aggs\": {\n",
    "                        \"mode_distribution\": {\n",
    "                        \"terms\": {\n",
    "                            \"field\": \"mode\",\n",
    "                            \"size\": 10\n",
    "                        },\n",
    "                        \"aggs\": {\n",
    "                            \"count_by_mode\": {\n",
    "                            \"value_count\": {\n",
    "                                \"field\": \"mode\"\n",
    "                            }\n",
    "                            }\n",
    "                        }\n",
    "                        }\n",
    "                    }\n",
    "                    }\n",
    "            )\n",
    "            return response\n",
    "            \n",
    "        except Exception as e:\n",
    "            print(f\"Error: {str(e)}\")"
   ]
  },
  {
   "cell_type": "markdown",
   "id": "5ba7f214",
   "metadata": {},
   "source": [
    "9.- Promedio de duración de canciones por género."
   ]
  },
  {
   "cell_type": "code",
   "execution_count": null,
   "id": "2032086c",
   "metadata": {},
   "outputs": [],
   "source": [
    "def showDurationBySongs(self):\n",
    "        try:\n",
    "            response=self.connection.search(\n",
    "                index=self.index,\n",
    "                body={\n",
    "                    \"size\": 0,\n",
    "                    \"aggs\": {\n",
    "                        \"genres\": {\n",
    "                        \"terms\": {\n",
    "                            \"field\": \"genre\",  \n",
    "                            \"size\": 20\n",
    "                        },\n",
    "                        \"aggs\": {\n",
    "                            \"avg_duration\": {\n",
    "                            \"avg\": {\n",
    "                                \"field\": \"duration_ms\" \n",
    "                            }\n",
    "                            }\n",
    "                        }\n",
    "                        }\n",
    "                    }\n",
    "                    }\n",
    "            )\n",
    "            return response\n",
    "            \n",
    "        except Exception as e:\n",
    "            print(f\"Error: {str(e)}\")"
   ]
  },
  {
   "cell_type": "markdown",
   "id": "75bdedc0",
   "metadata": {},
   "source": [
    "10.- Top 10 canciones más \"loud\"."
   ]
  },
  {
   "cell_type": "code",
   "execution_count": null,
   "id": "71464a28",
   "metadata": {},
   "outputs": [],
   "source": [
    "def showSongsWhitMostLoud(self):\n",
    "        try:\n",
    "            response=self.connection.search(\n",
    "                index=self.index,\n",
    "                body={\n",
    "                    \"size\": 10,\n",
    "                    \"sort\": [\n",
    "                        {\n",
    "                        \"loudness\": {\n",
    "                            \"order\": \"desc\"  \n",
    "                        }\n",
    "                        }\n",
    "                    ],\n",
    "                    \"_source\": [\"track_name\", \"artist_name\", \"loudness\"]  \n",
    "                    }\n",
    "            )\n",
    "            return response\n",
    "            \n",
    "        except Exception as e:\n",
    "            print(f\"Error: {str(e)}\")"
   ]
  },
  {
   "cell_type": "markdown",
   "id": "c387a991",
   "metadata": {},
   "source": [
    "11.-Top 10 canciones con mayor \"speechiness\"."
   ]
  },
  {
   "cell_type": "code",
   "execution_count": null,
   "id": "6289d1c0",
   "metadata": {},
   "outputs": [],
   "source": [
    "def showSongsWhitMostSpeech(self):\n",
    "        try:\n",
    "            response=self.connection.search(\n",
    "                index=self.index,\n",
    "                body={\n",
    "                    \"size\": 10,\n",
    "                    \"sort\": [\n",
    "                        {\n",
    "                        \"speechiness\": {\n",
    "                            \"order\": \"desc\"  \n",
    "                        }\n",
    "                        }\n",
    "                    ],\n",
    "                    \"_source\": [\"track_name\", \"artist_name\", \"speechiness\"] \n",
    "                    }\n",
    "            )\n",
    "            return response\n",
    "            \n",
    "        except Exception as e:\n",
    "            print(f\"Error: {str(e)}\")"
   ]
  },
  {
   "cell_type": "markdown",
   "id": "64831e72",
   "metadata": {},
   "source": [
    "12.-Distribución de los valores de \"time_signature\"."
   ]
  },
  {
   "cell_type": "code",
   "execution_count": null,
   "id": "9d7cdbe0",
   "metadata": {},
   "outputs": [],
   "source": [
    "def showTimeSignature(self):\n",
    "        try:\n",
    "            response=self.connection.search(\n",
    "                index=self.index,\n",
    "                body={\n",
    "                    \"size\": 0,\n",
    "                    \"aggs\": {\n",
    "                        \"time_signature_distribution\": {\n",
    "                        \"terms\": {\n",
    "                            \"field\": \"time_signature\",\n",
    "                            \"size\": 5  \n",
    "                        }\n",
    "                        }\n",
    "                    }\n",
    "                    }\n",
    "            )\n",
    "            return response\n",
    "            \n",
    "        except Exception as e:\n",
    "            print(f\"Error: {str(e)}\")"
   ]
  },
  {
   "cell_type": "markdown",
   "id": "ecfc435b",
   "metadata": {},
   "source": [
    "13.-Top 10 canciones con mayor \"instrumentalness\"."
   ]
  },
  {
   "cell_type": "code",
   "execution_count": null,
   "id": "19c8a17c",
   "metadata": {},
   "outputs": [],
   "source": [
    "def showInstrumental(self):\n",
    "        try:\n",
    "            response=self.connection.search(\n",
    "                index=self.index,\n",
    "                body={\n",
    "                    \"size\": 10,\n",
    "                    \"sort\": [\n",
    "                        {\n",
    "                        \"instrumentalness\": {\n",
    "                            \"order\": \"desc\"\n",
    "                        }\n",
    "                        }\n",
    "                    ],\n",
    "                    \"_source\": [\"track_name\", \"artist_name\", \"instrumentalness\"]\n",
    "                    }\n",
    "            )\n",
    "            return response\n",
    "            \n",
    "        except Exception as e:\n",
    "            print(f\"Error: {str(e)}\")"
   ]
  },
  {
   "cell_type": "markdown",
   "id": "7ad87b12",
   "metadata": {},
   "source": [
    "14.- Las 10 canciones mas populares "
   ]
  },
  {
   "cell_type": "code",
   "execution_count": null,
   "id": "c3a64f46",
   "metadata": {},
   "outputs": [],
   "source": [
    "def showMorePopularitySongs(self):\n",
    "        try:\n",
    "            response=self.connection.search(\n",
    "                index=self.index,\n",
    "                body={\n",
    "                    \"size\": 10,\n",
    "                    \"sort\": [\n",
    "                        {\n",
    "                        \"popularity\": {\n",
    "                            \"order\": \"desc\"\n",
    "                        }\n",
    "                        }\n",
    "                    ],\n",
    "                    \"_source\": [\"track_name\", \"artist_name\", \"popularity\"]\n",
    "                    }\n",
    "            )\n",
    "            return response\n",
    "            \n",
    "        except Exception as e:\n",
    "            print(f\"Error: {str(e)}\")"
   ]
  },
  {
   "cell_type": "markdown",
   "id": "855be8d2",
   "metadata": {},
   "source": [
    "15.- las 10 canciones mas largas "
   ]
  },
  {
   "cell_type": "code",
   "execution_count": null,
   "id": "2a3a4564",
   "metadata": {},
   "outputs": [],
   "source": [
    "def showMoreLongSongs(self):\n",
    "        try:\n",
    "            response=self.connection.search(\n",
    "                index=self.index,\n",
    "                body={\n",
    "                    \"size\": 10,\n",
    "                    \"sort\": [\n",
    "                        {\n",
    "                        \"duration_ms\": {\n",
    "                            \"order\": \"desc\"\n",
    "                        }\n",
    "                        }\n",
    "                    ],\n",
    "                    \"_source\": [\"track_name\", \"artist_name\", \"duration_ms\"]\n",
    "                    }\n",
    "            )\n",
    "            return response\n",
    "            \n",
    "        except Exception as e:\n",
    "            print(f\"Error: {str(e)}\")"
   ]
  }
 ],
 "metadata": {
  "kernelspec": {
   "display_name": ".venv",
   "language": "python",
   "name": "python3"
  },
  "language_info": {
   "codemirror_mode": {
    "name": "ipython",
    "version": 3
   },
   "file_extension": ".py",
   "mimetype": "text/x-python",
   "name": "python",
   "nbconvert_exporter": "python",
   "pygments_lexer": "ipython3",
   "version": "3.13.2"
  }
 },
 "nbformat": 4,
 "nbformat_minor": 5
}
