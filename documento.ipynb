{
 "cells": [
  {
   "cell_type": "markdown",
   "id": "972fe650",
   "metadata": {},
   "source": [
    "Problematica \n",
    "Análisis de tendencias musicales a lo largo de los años.\n",
    "Queremos analizar cómo ha evolucionado la popularidad de la música en diferentes géneros y cómo algunas características como la energía, bailabilidad, acústica y loudness han cambiado a lo largo de los años. A través de este análisis, se busca entender cómo los gustos musicales han cambiado y qué características de las canciones se correlacionan más con la popularidad a lo largo del tiempo.\n"
   ]
  },
  {
   "cell_type": "code",
   "execution_count": 1,
   "id": "0e77cffc",
   "metadata": {},
   "outputs": [],
   "source": [
    "from elasticsearch import Elasticsearch\n",
    "from elasticsearch import helpers\n",
    "import json"
   ]
  },
  {
   "cell_type": "markdown",
   "id": "a9506dd7",
   "metadata": {},
   "source": [
    "COdigo principla: ElasticSearchProvider.\n",
    "Este código sirve para conectarse a un servidor llamado Elasticsearch que está en tu computadora. Su función principal es leer un archivo de texto donde cada línea tiene datos en formato JSON (por ejemplo, información de canciones) y luego guardar todos esos datos en una especie de base de datos llamada \"spotify-insights\". Lo hace todo de forma rápida y automática. Además, cuando termina de cargar los datos, cierra la conexión con el servidor para no dejarla abierta. Es útil si tienes muchos datos y quieres guardarlos en un lugar donde luego puedas buscarlos fácilmente."
   ]
  },
  {
   "cell_type": "code",
   "execution_count": 2,
   "id": "a9c270c7",
   "metadata": {},
   "outputs": [],
   "source": [
    "class ElasticSearchProvider:\n",
    "\n",
    "    def __init__(self):\n",
    "        self.host = \"http://localhost:9200\"\n",
    "        #self.user = str(user)\n",
    "        #self.password = str(password)\n",
    "        self.index = \"spotify-insights\"\n",
    "        self.index_type =\"_doc\"\n",
    "        self.connection = Elasticsearch(self.host)\n",
    "\n",
    "    def __enter__(self):\n",
    "        try:\n",
    "            self.connection=Elasticsearch(self.host)\n",
    "            return self\n",
    "        except Exception as e:\n",
    "            return{\n",
    "                \"StatusCode\":500,\n",
    "                \"body\":json.dumps({\n",
    "                    \"Message\":str(e)\n",
    "                })\n",
    "            }\n",
    "\n",
    "    def __exit__(self, exception_type, exception_value, traceback):\n",
    "        self.connection.transport.close()\n"
   ]
  },
  {
   "cell_type": "markdown",
   "id": "9c1a785d",
   "metadata": {},
   "source": [
    "Lista de consultas\n"
   ]
  },
  {
   "cell_type": "markdown",
   "id": "92ca106c",
   "metadata": {},
   "source": [
    "1.- Top 10 canciones más populares por género:"
   ]
  },
  {
   "cell_type": "code",
   "execution_count": 3,
   "id": "96f50bd8",
   "metadata": {},
   "outputs": [],
   "source": [
    "def showMostPopularbyGenre(self):\n",
    "        try:\n",
    "            response=self.connection.search(\n",
    "                index=self.index,\n",
    "                body={\n",
    "                    \"size\": 0,\n",
    "                    \"aggs\": {\n",
    "                        \"top_genres\": {\n",
    "                        \"terms\": {\n",
    "                            \"field\": \"genre\",\n",
    "                            \"size\": 10\n",
    "                        },\n",
    "                        \"aggs\": {\n",
    "                            \"top_tracks\": {\n",
    "                            \"top_hits\": {\n",
    "                                \"size\": 10,\n",
    "                                \"_source\": [\"track_name\", \"artist_name\", \"popularity\"]\n",
    "                                }\n",
    "                            }\n",
    "                        }\n",
    "                    }\n",
    "                }\n",
    "            }\n",
    "            )\n",
    "            return response\n",
    "            \n",
    "        except Exception as e:\n",
    "            print(f\"Error: {str(e)}\")\n",
    "\n",
    "ElasticSearchProvider.showMostPopularbyGenre=showMostPopularbyGenre"
   ]
  },
  {
   "cell_type": "code",
   "execution_count": 6,
   "id": "e34689cd",
   "metadata": {},
   "outputs": [
    {
     "name": "stdout",
     "output_type": "stream",
     "text": [
      "Respuesta obtenida:\n",
      "{'took': 20, 'timed_out': False, '_shards': {'total': 1, 'successful': 1, 'skipped': 0, 'failed': 0}, 'hits': {'total': {'value': 10000, 'relation': 'gte'}, 'max_score': None, 'hits': []}, 'aggregations': {'top_genres': {'doc_count_error_upper_bound': 0, 'sum_other_doc_count': 951862, 'buckets': [{'key': 'black-metal', 'doc_count': 21852, 'top_tracks': {'hits': {'total': {'value': 21852, 'relation': 'eq'}, 'max_score': 1.0, 'hits': [{'_index': 'spotify-insights', '_id': 'ExEMYJYBMkMmnc_OPjLn', '_score': 1.0, '_source': {'artist_name': 'Kawir', 'track_name': 'Hail Bacchus', 'popularity': 12}}, {'_index': 'spotify-insights', '_id': 'FBEMYJYBMkMmnc_OPjLn', '_score': 1.0, '_source': {'artist_name': 'Kawir', 'track_name': 'Hymn to Apollo', 'popularity': 13}}, {'_index': 'spotify-insights', '_id': 'FREMYJYBMkMmnc_OPjLn', '_score': 1.0, '_source': {'artist_name': 'Hexis', 'track_name': 'Inferis', 'popularity': 10}}, {'_index': 'spotify-insights', '_id': 'FhEMYJYBMkMmnc_OPjLn', '_score': 1.0, '_source': {'artist_name': 'Teitanblood', 'track_name': 'Sleeping Throats Of The Antichrist', 'popularity': 10}}, {'_index': 'spotify-insights', '_id': 'FxEMYJYBMkMmnc_OPjLn', '_score': 1.0, '_source': {'artist_name': 'Hoth', 'track_name': 'Unending Power', 'popularity': 8}}, {'_index': 'spotify-insights', '_id': 'GBEMYJYBMkMmnc_OPjLn', '_score': 1.0, '_source': {'artist_name': 'Mutiilation', 'track_name': 'Outro', 'popularity': 10}}, {'_index': 'spotify-insights', '_id': 'GREMYJYBMkMmnc_OPjLn', '_score': 1.0, '_source': {'artist_name': 'Hoth', 'track_name': 'Cryptic Nightmares', 'popularity': 8}}, {'_index': 'spotify-insights', '_id': 'GhEMYJYBMkMmnc_OPjLn', '_score': 1.0, '_source': {'artist_name': 'CHTHONIC', 'track_name': '殘枝', 'popularity': 17}}, {'_index': 'spotify-insights', '_id': 'GxEMYJYBMkMmnc_OPjLn', '_score': 1.0, '_source': {'artist_name': 'Slomatics', 'track_name': 'The Carpenter', 'popularity': 8}}, {'_index': 'spotify-insights', '_id': 'HBEMYJYBMkMmnc_OPjLn', '_score': 1.0, '_source': {'artist_name': 'Imperial Triumphant', 'track_name': 'Hierophant', 'popularity': 11}}]}}}, {'key': 'gospel', 'doc_count': 21621, 'top_tracks': {'hits': {'total': {'value': 21621, 'relation': 'eq'}, 'max_score': 1.0, 'hits': [{'_index': 'spotify-insights', '_id': 'Vw8LYJYBMkMmnc_O29_u', '_score': 1.0, '_source': {'artist_name': 'Tamela Mann', 'track_name': 'Take Me to the King (feat. Kirk Franklin)', 'popularity': 52}}, {'_index': 'spotify-insights', '_id': 'WA8LYJYBMkMmnc_O29_u', '_score': 1.0, '_source': {'artist_name': 'Amber Bullock', 'track_name': \"Lord You've Been So Good\", 'popularity': 45}}, {'_index': 'spotify-insights', '_id': 'WQ8LYJYBMkMmnc_O29_u', '_score': 1.0, '_source': {'artist_name': 'Anthony Brown & group therAPy', 'track_name': 'Testimony', 'popularity': 44}}, {'_index': 'spotify-insights', '_id': 'Wg8LYJYBMkMmnc_O29_u', '_score': 1.0, '_source': {'artist_name': 'Marvin Winans', 'track_name': 'Draw Me Close/Thy Will Be Done', 'popularity': 44}}, {'_index': 'spotify-insights', '_id': 'Ww8LYJYBMkMmnc_O29_u', '_score': 1.0, '_source': {'artist_name': 'Jonathan McReynolds', 'track_name': 'No Gray', 'popularity': 46}}, {'_index': 'spotify-insights', '_id': 'XA8LYJYBMkMmnc_O29_u', '_score': 1.0, '_source': {'artist_name': 'Israel Houghton', 'track_name': 'You Are Good', 'popularity': 48}}, {'_index': 'spotify-insights', '_id': 'XQ8LYJYBMkMmnc_O29_u', '_score': 1.0, '_source': {'artist_name': 'Earnest Pugh', 'track_name': 'Rain On Us', 'popularity': 42}}, {'_index': 'spotify-insights', '_id': 'Xg8LYJYBMkMmnc_O29_u', '_score': 1.0, '_source': {'artist_name': 'Rev. Milton Brunson', 'track_name': 'Safe In His Arms', 'popularity': 41}}, {'_index': 'spotify-insights', '_id': 'Xw8LYJYBMkMmnc_O29_u', '_score': 1.0, '_source': {'artist_name': 'Marvin Sapp', 'track_name': 'My Testimony', 'popularity': 43}}, {'_index': 'spotify-insights', '_id': 'YA8LYJYBMkMmnc_O29_u', '_score': 1.0, '_source': {'artist_name': 'Deon Kipping', 'track_name': 'Let Your Power Fall (Part 1)', 'popularity': 43}}]}}}, {'key': 'ambient', 'doc_count': 21389, 'top_tracks': {'hits': {'total': {'value': 21389, 'relation': 'eq'}, 'max_score': 1.0, 'hits': [{'_index': 'spotify-insights', '_id': 'Pw8LYJYBMkMmnc_OoYqN', '_score': 1.0, '_source': {'artist_name': 'Chris Zabriskie', 'track_name': 'NirvanaVEVO', 'popularity': 16}}, {'_index': 'spotify-insights', '_id': 'QA8LYJYBMkMmnc_OoYqN', '_score': 1.0, '_source': {'artist_name': 'Mathias Grassow', 'track_name': 'Nightfall', 'popularity': 15}}, {'_index': 'spotify-insights', '_id': 'QQ8LYJYBMkMmnc_OoYqN', '_score': 1.0, '_source': {'artist_name': 'Loscil', 'track_name': 'Container Ships', 'popularity': 14}}, {'_index': 'spotify-insights', '_id': 'Qg8LYJYBMkMmnc_OoYqN', '_score': 1.0, '_source': {'artist_name': 'Ludovico Einaudi', 'track_name': 'Cache-Cache', 'popularity': 13}}, {'_index': 'spotify-insights', '_id': 'Qw8LYJYBMkMmnc_OoYqN', '_score': 1.0, '_source': {'artist_name': 'Rivers & Robots', 'track_name': 'The Judge', 'popularity': 14}}, {'_index': 'spotify-insights', '_id': 'RA8LYJYBMkMmnc_OoYqN', '_score': 1.0, '_source': {'artist_name': 'Dmitri Shostakovich', 'track_name': 'Symphony No. 7 in C Major, Op. 60 \"Leningrad\": II. Moderato (Poco allegretto)', 'popularity': 18}}, {'_index': 'spotify-insights', '_id': 'RQ8LYJYBMkMmnc_OoYqN', '_score': 1.0, '_source': {'artist_name': 'Karen Dalton', 'track_name': 'Mole in the Ground', 'popularity': 13}}, {'_index': 'spotify-insights', '_id': 'Rg8LYJYBMkMmnc_OoYqN', '_score': 1.0, '_source': {'artist_name': 'Tony Anderson', 'track_name': 'Diana', 'popularity': 15}}, {'_index': 'spotify-insights', '_id': 'Rw8LYJYBMkMmnc_OoYqN', '_score': 1.0, '_source': {'artist_name': 'Solar Fields', 'track_name': 'In Motion', 'popularity': 18}}, {'_index': 'spotify-insights', '_id': 'SA8LYJYBMkMmnc_OoYqN', '_score': 1.0, '_source': {'artist_name': 'Sync24', 'track_name': 'Nanites', 'popularity': 14}}]}}}, {'key': 'acoustic', 'doc_count': 21097, 'top_tracks': {'hits': {'total': {'value': 21097, 'relation': 'eq'}, 'max_score': 1.0, 'hits': [{'_index': 'spotify-insights', '_id': 'gw8LYJYBMkMmnc_Oln7M', '_score': 1.0, '_source': {'artist_name': 'Tyler Ward', 'track_name': 'Ho Hey', 'popularity': 20}}, {'_index': 'spotify-insights', '_id': 'hA8LYJYBMkMmnc_Oln7M', '_score': 1.0, '_source': {'artist_name': 'Dave Barnes', 'track_name': 'White Flag', 'popularity': 10}}, {'_index': 'spotify-insights', '_id': 'hQ8LYJYBMkMmnc_Oln7M', '_score': 1.0, '_source': {'artist_name': 'Erin McCarley', 'track_name': 'Amber Waves', 'popularity': 9}}, {'_index': 'spotify-insights', '_id': 'hg8LYJYBMkMmnc_Oln7M', '_score': 1.0, '_source': {'artist_name': 'Benjamin Francis Leftwich', 'track_name': 'Break the Day Open', 'popularity': 10}}, {'_index': 'spotify-insights', '_id': 'hw8LYJYBMkMmnc_OmH7k', '_score': 1.0, '_source': {'artist_name': 'A Fine Frenzy', 'track_name': 'Winds Of Wander', 'popularity': 9}}, {'_index': 'spotify-insights', '_id': 'iA8LYJYBMkMmnc_OmH7k', '_score': 1.0, '_source': {'artist_name': 'Scars On 45', 'track_name': 'Promises and Empty Words', 'popularity': 11}}, {'_index': 'spotify-insights', '_id': 'iQ8LYJYBMkMmnc_OmH7k', '_score': 1.0, '_source': {'artist_name': 'Greg Laswell', 'track_name': 'Back To You', 'popularity': 11}}, {'_index': 'spotify-insights', '_id': 'ig8LYJYBMkMmnc_OmH7k', '_score': 1.0, '_source': {'artist_name': 'Matthew Mayfield', 'track_name': 'Track You Down', 'popularity': 13}}, {'_index': 'spotify-insights', '_id': 'iw8LYJYBMkMmnc_OmH7l', '_score': 1.0, '_source': {'artist_name': 'Steve Petrunak', 'track_name': 'Morning Has Broken', 'popularity': 8}}, {'_index': 'spotify-insights', '_id': 'jA8LYJYBMkMmnc_OmH7l', '_score': 1.0, '_source': {'artist_name': 'Ichiko Aoba', 'track_name': 'kiseki wa itsudemo - remastered', 'popularity': 14}}]}}}, {'key': 'alt-rock', 'doc_count': 20918, 'top_tracks': {'hits': {'total': {'value': 20918, 'relation': 'eq'}, 'max_score': 1.0, 'hits': [{'_index': 'spotify-insights', '_id': '0w8LYJYBMkMmnc_Om4NO', '_score': 1.0, '_source': {'artist_name': 'St. Lucia', 'track_name': 'Elevate', 'popularity': 49}}, {'_index': 'spotify-insights', '_id': '1A8LYJYBMkMmnc_Om4NO', '_score': 1.0, '_source': {'artist_name': 'The Menzingers', 'track_name': 'Good Things', 'popularity': 48}}, {'_index': 'spotify-insights', '_id': '1Q8LYJYBMkMmnc_Om4NO', '_score': 1.0, '_source': {'artist_name': 'Young Guns', 'track_name': 'Bones', 'popularity': 43}}, {'_index': 'spotify-insights', '_id': '1g8LYJYBMkMmnc_Om4NO', '_score': 1.0, '_source': {'artist_name': 'Deftones', 'track_name': 'Goon Squad', 'popularity': 49}}, {'_index': 'spotify-insights', '_id': '1w8LYJYBMkMmnc_Om4NO', '_score': 1.0, '_source': {'artist_name': 'Fobia', 'track_name': 'El Microbito', 'popularity': 44}}, {'_index': 'spotify-insights', '_id': '2A8LYJYBMkMmnc_Om4NO', '_score': 1.0, '_source': {'artist_name': 'Sidewalk Prophets', 'track_name': 'Keep Making Me', 'popularity': 49}}, {'_index': 'spotify-insights', '_id': '2Q8LYJYBMkMmnc_Om4NO', '_score': 1.0, '_source': {'artist_name': 'The Killers', 'track_name': 'Miss Atomic Bomb', 'popularity': 55}}, {'_index': 'spotify-insights', '_id': '2g8LYJYBMkMmnc_Om4NO', '_score': 1.0, '_source': {'artist_name': 'DIIV', 'track_name': 'Doused', 'popularity': 53}}, {'_index': 'spotify-insights', '_id': '2w8LYJYBMkMmnc_Om4NO', '_score': 1.0, '_source': {'artist_name': 'Justin Townes Earle', 'track_name': 'Look The Other Way', 'popularity': 47}}, {'_index': 'spotify-insights', '_id': '3A8LYJYBMkMmnc_Om4NO', '_score': 1.0, '_source': {'artist_name': 'Inspector', 'track_name': 'Me Estoy Enamorando', 'popularity': 62}}]}}}, {'key': 'emo', 'doc_count': 20845, 'top_tracks': {'hits': {'total': {'value': 20845, 'relation': 'eq'}, 'max_score': 1.0, 'hits': [{'_index': 'spotify-insights', '_id': '8g8LYJYBMkMmnc_OzMnE', '_score': 1.0, '_source': {'artist_name': 'Modern Baseball', 'track_name': 'Tears Over Beers', 'popularity': 63}}, {'_index': 'spotify-insights', '_id': '8w8LYJYBMkMmnc_OzMnE', '_score': 1.0, '_source': {'artist_name': 'Basement', 'track_name': 'Covet', 'popularity': 62}}, {'_index': 'spotify-insights', '_id': '9A8LYJYBMkMmnc_OzMnE', '_score': 1.0, '_source': {'artist_name': 'Modern Baseball', 'track_name': 'Re-Do', 'popularity': 57}}, {'_index': 'spotify-insights', '_id': '9Q8LYJYBMkMmnc_OzMnE', '_score': 1.0, '_source': {'artist_name': 'Title Fight', 'track_name': 'Head in the Ceiling Fan', 'popularity': 57}}, {'_index': 'spotify-insights', '_id': '9g8LYJYBMkMmnc_OzMnE', '_score': 1.0, '_source': {'artist_name': 'Title Fight', 'track_name': 'In-Between', 'popularity': 57}}, {'_index': 'spotify-insights', '_id': '9w8LYJYBMkMmnc_OzMnE', '_score': 1.0, '_source': {'artist_name': 'Mayday Parade', 'track_name': 'Somebody That I Used To Know', 'popularity': 59}}, {'_index': 'spotify-insights', '_id': '-A8LYJYBMkMmnc_OzMnE', '_score': 1.0, '_source': {'artist_name': 'ASIAN KUNG-FU GENERATION', 'track_name': '遥か彼方', 'popularity': 63}}, {'_index': 'spotify-insights', '_id': '-Q8LYJYBMkMmnc_OzMnE', '_score': 1.0, '_source': {'artist_name': 'Basement', 'track_name': 'Whole', 'popularity': 52}}, {'_index': 'spotify-insights', '_id': '-g8LYJYBMkMmnc_OzMnE', '_score': 1.0, '_source': {'artist_name': 'Modern Baseball', 'track_name': 'I Think You Were in My Profile Picture Once', 'popularity': 52}}, {'_index': 'spotify-insights', '_id': '-w8LYJYBMkMmnc_OzMnE', '_score': 1.0, '_source': {'artist_name': 'My Chemical Romance', 'track_name': 'The Light Behind Your Eyes', 'popularity': 58}}]}}}, {'key': 'indian', 'doc_count': 20583, 'top_tracks': {'hits': {'total': {'value': 20583, 'relation': 'eq'}, 'max_score': 1.0, 'hits': [{'_index': 'spotify-insights', '_id': '_Q8LYJYBMkMmnc_O5PxO', '_score': 1.0, '_source': {'artist_name': 'Pritam', 'track_name': 'Raabta', 'popularity': 73}}, {'_index': 'spotify-insights', '_id': '_g8LYJYBMkMmnc_O5PxO', '_score': 1.0, '_source': {'artist_name': 'Pritam', 'track_name': 'Kyon', 'popularity': 58}}, {'_index': 'spotify-insights', '_id': '_w8LYJYBMkMmnc_O5PxO', '_score': 1.0, '_source': {'artist_name': 'Pritam', 'track_name': 'Phir Le Aya Dil - Reprise', 'popularity': 58}}, {'_index': 'spotify-insights', '_id': 'AA8LYJYBMkMmnc_O5P1O', '_score': 1.0, '_source': {'artist_name': 'Pritam', 'track_name': 'Tu Hi Mera', 'popularity': 59}}, {'_index': 'spotify-insights', '_id': 'AQ8LYJYBMkMmnc_O5P1O', '_score': 1.0, '_source': {'artist_name': 'Pritam', 'track_name': 'Aashiyan', 'popularity': 55}}, {'_index': 'spotify-insights', '_id': 'Ag8LYJYBMkMmnc_O5P1O', '_score': 1.0, '_source': {'artist_name': 'Pritam', 'track_name': 'Main Kya Karoon', 'popularity': 52}}, {'_index': 'spotify-insights', '_id': 'Aw8LYJYBMkMmnc_O5P1O', '_score': 1.0, '_source': {'artist_name': 'Pritam', 'track_name': 'Raabta (Kehte Hain Khuda Ne)', 'popularity': 54}}, {'_index': 'spotify-insights', '_id': 'BA8LYJYBMkMmnc_O5P1O', '_score': 1.0, '_source': {'artist_name': 'Pritam', 'track_name': 'Phir Le Aya Dil', 'popularity': 52}}, {'_index': 'spotify-insights', '_id': 'BQ8LYJYBMkMmnc_O5P1O', '_score': 1.0, '_source': {'artist_name': 'Pritam', 'track_name': 'Tujhe Sochta Hoon', 'popularity': 59}}, {'_index': 'spotify-insights', '_id': 'Bg8LYJYBMkMmnc_O5P1O', '_score': 1.0, '_source': {'artist_name': 'Paras Nath', 'track_name': 'Krishna Theme (Flute)', 'popularity': 53}}]}}}, {'key': 'k-pop', 'doc_count': 20004, 'top_tracks': {'hits': {'total': {'value': 20004, 'relation': 'eq'}, 'max_score': 1.0, 'hits': [{'_index': 'spotify-insights', '_id': 'dREMYJYBMkMmnc_OXqgW', '_score': 1.0, '_source': {'artist_name': 'BTS', 'track_name': 'Just One Day', 'popularity': 68}}, {'_index': 'spotify-insights', '_id': 'dhEMYJYBMkMmnc_OXqgW', '_score': 1.0, '_source': {'artist_name': 'BTS', 'track_name': 'Boy in Luv', 'popularity': 65}}, {'_index': 'spotify-insights', '_id': 'dxEMYJYBMkMmnc_OXqgW', '_score': 1.0, '_source': {'artist_name': 'BTS', 'track_name': 'Jump', 'popularity': 65}}, {'_index': 'spotify-insights', '_id': 'eBEMYJYBMkMmnc_OXqgW', '_score': 1.0, '_source': {'artist_name': 'BTS', 'track_name': 'Danger', 'popularity': 64}}, {'_index': 'spotify-insights', '_id': 'eREMYJYBMkMmnc_OXqgW', '_score': 1.0, '_source': {'artist_name': 'BTS', 'track_name': 'War of Hormone', 'popularity': 63}}, {'_index': 'spotify-insights', '_id': 'ehEMYJYBMkMmnc_OXqgW', '_score': 1.0, '_source': {'artist_name': 'BTS', 'track_name': 'BTS Cypher Pt.3: Killer', 'popularity': 63}}, {'_index': 'spotify-insights', '_id': 'exEMYJYBMkMmnc_OXqgW', '_score': 1.0, '_source': {'artist_name': 'BTS', 'track_name': 'Rain', 'popularity': 60}}, {'_index': 'spotify-insights', '_id': 'fBEMYJYBMkMmnc_OXqgW', '_score': 1.0, '_source': {'artist_name': 'AOA', 'track_name': 'Miniskirt', 'popularity': 59}}, {'_index': 'spotify-insights', '_id': 'fREMYJYBMkMmnc_OXqgW', '_score': 1.0, '_source': {'artist_name': 'BTS', 'track_name': 'Spine Breaker', 'popularity': 62}}, {'_index': 'spotify-insights', '_id': 'fhEMYJYBMkMmnc_OXqgW', '_score': 1.0, '_source': {'artist_name': 'BTS', 'track_name': 'Tomorrow', 'popularity': 59}}]}}}, {'key': 'new-age', 'doc_count': 19911, 'top_tracks': {'hits': {'total': {'value': 19911, 'relation': 'eq'}, 'max_score': 1.0, 'hits': [{'_index': 'spotify-insights', '_id': '5REMYJYBMkMmnc_OX7CG', '_score': 1.0, '_source': {'artist_name': 'Mike Oldfield', 'track_name': 'Nuclear', 'popularity': 52}}, {'_index': 'spotify-insights', '_id': '5hEMYJYBMkMmnc_OX7CG', '_score': 1.0, '_source': {'artist_name': 'Paul Cardall', 'track_name': 'The Traveler', 'popularity': 42}}, {'_index': 'spotify-insights', '_id': '5xEMYJYBMkMmnc_OX7CG', '_score': 1.0, '_source': {'artist_name': 'Paul Cardall', 'track_name': \"Gracie's Theme\", 'popularity': 41}}, {'_index': 'spotify-insights', '_id': '6BEMYJYBMkMmnc_OX7CG', '_score': 1.0, '_source': {'artist_name': 'Paul Cardall', 'track_name': 'Life and Death', 'popularity': 39}}, {'_index': 'spotify-insights', '_id': '6REMYJYBMkMmnc_OX7CG', '_score': 1.0, '_source': {'artist_name': 'Paul Cardall', 'track_name': 'New Life', 'popularity': 38}}, {'_index': 'spotify-insights', '_id': '6hEMYJYBMkMmnc_OX7CG', '_score': 1.0, '_source': {'artist_name': 'Paul Cardall', 'track_name': 'Letting Go', 'popularity': 35}}, {'_index': 'spotify-insights', '_id': '6xEMYJYBMkMmnc_OX7CG', '_score': 1.0, '_source': {'artist_name': 'Paul Cardall', 'track_name': 'Father in Heaven', 'popularity': 33}}, {'_index': 'spotify-insights', '_id': '7BEMYJYBMkMmnc_OX7CG', '_score': 1.0, '_source': {'artist_name': 'Dean Evenson', 'track_name': 'Resonant Wave', 'popularity': 41}}, {'_index': 'spotify-insights', '_id': '7REMYJYBMkMmnc_OX7CG', '_score': 1.0, '_source': {'artist_name': 'Yanni', 'track_name': 'I genitori (To Take To Hold)', 'popularity': 39}}, {'_index': 'spotify-insights', '_id': '7hEMYJYBMkMmnc_OX7CG', '_score': 1.0, '_source': {'artist_name': 'Sambodhi Prem', 'track_name': 'Hands of Love', 'popularity': 32}}]}}}, {'key': 'blues', 'doc_count': 19682, 'top_tracks': {'hits': {'total': {'value': 19682, 'relation': 'eq'}, 'max_score': 1.0, 'hits': [{'_index': 'spotify-insights', '_id': 'LxEMYJYBMkMmnc_OPzRv', '_score': 1.0, '_source': {'artist_name': 'Eric Clapton', 'track_name': 'Magnolia (feat. John Mayer)', 'popularity': 50}}, {'_index': 'spotify-insights', '_id': 'MBEMYJYBMkMmnc_OPzRv', '_score': 1.0, '_source': {'artist_name': 'Warren Haynes', 'track_name': 'Will The Circle Be Unbroken - Live', 'popularity': 49}}, {'_index': 'spotify-insights', '_id': 'MREMYJYBMkMmnc_OPzRv', '_score': 1.0, '_source': {'artist_name': 'Goodnight, Texas', 'track_name': \"A Bank Robber's Nursery Rhyme\", 'popularity': 48}}, {'_index': 'spotify-insights', '_id': 'MhEMYJYBMkMmnc_OPzRv', '_score': 1.0, '_source': {'artist_name': 'Louis Prima', 'track_name': 'I Wan\\'na Be Like You (The Monkey Song) - From \"The Jungle Book\" / Soundtrack Version', 'popularity': 48}}, {'_index': 'spotify-insights', '_id': 'MxEMYJYBMkMmnc_OPzRv', '_score': 1.0, '_source': {'artist_name': 'Goodnight, Texas', 'track_name': 'Moonshiners', 'popularity': 48}}, {'_index': 'spotify-insights', '_id': 'NBEMYJYBMkMmnc_OPzRv', '_score': 1.0, '_source': {'artist_name': 'Ben Miller Band', 'track_name': 'Hurry Up and Wait', 'popularity': 50}}, {'_index': 'spotify-insights', '_id': 'NREMYJYBMkMmnc_OPzRv', '_score': 1.0, '_source': {'artist_name': 'Rick Derringer', 'track_name': 'Real American', 'popularity': 46}}, {'_index': 'spotify-insights', '_id': 'NhEMYJYBMkMmnc_OPzRv', '_score': 1.0, '_source': {'artist_name': 'Ben Miller Band', 'track_name': 'The Outsider', 'popularity': 48}}, {'_index': 'spotify-insights', '_id': 'NxEMYJYBMkMmnc_OPzRv', '_score': 1.0, '_source': {'artist_name': 'The Louisiana Blues Brothas', 'track_name': 'My Sidepiece', 'popularity': 42}}, {'_index': 'spotify-insights', '_id': 'OBEMYJYBMkMmnc_OPzRv', '_score': 1.0, '_source': {'artist_name': 'Gary Clark Jr.', 'track_name': 'Catfish Blues - Live', 'popularity': 44}}]}}}]}}}\n"
     ]
    }
   ],
   "source": [
    "provider = ElasticSearchProvider()\n",
    "response = provider.showMostPopularbyGenre()\n",
    "if response:\n",
    "    print(\"Respuesta obtenida:\")\n",
    "    print(response)\n",
    "else:\n",
    "    print(\"No se obtuvo respuesta válida.\")"
   ]
  },
  {
   "cell_type": "markdown",
   "id": "c0a07cc1",
   "metadata": {},
   "source": [
    "2.- Top 5 canciones más populares de un artista específico."
   ]
  },
  {
   "cell_type": "code",
   "execution_count": 7,
   "id": "5884574b",
   "metadata": {},
   "outputs": [],
   "source": [
    "def showMostPopularbyArtist(self,name):\n",
    "        try:\n",
    "            response=self.connection.search(\n",
    "                index=self.index,\n",
    "                body={\n",
    "                    \"size\": 5,\n",
    "                    \"query\": {\n",
    "                        \"match\": {\n",
    "                        \"artist_name\": name \n",
    "                        }\n",
    "                    },\n",
    "                    \"aggs\": {\n",
    "                        \"top_tracks\": {\n",
    "                        \"terms\": {\n",
    "                            \"field\": \"track_name.keyword\",  \n",
    "                        },\n",
    "                        \"aggs\": {\n",
    "                            \"popular_tracks\": {\n",
    "                            \"top_hits\": {\n",
    "                                \"size\": 5,\n",
    "                                \"_source\": [\"track_name\", \"popularity\"]\n",
    "                            }\n",
    "                            }\n",
    "                        }\n",
    "                        }\n",
    "                    }\n",
    "                }\n",
    "            )\n",
    "            return response\n",
    "            \n",
    "        except Exception as e:\n",
    "            print(f\"Error: {str(e)}\")\n",
    "            \n",
    "ElasticSearchProvider.showMostPopularbyArtist=showMostPopularbyArtist"
   ]
  },
  {
   "cell_type": "code",
   "execution_count": 8,
   "id": "aa841b88",
   "metadata": {},
   "outputs": [
    {
     "name": "stdout",
     "output_type": "stream",
     "text": [
      "Respuesta obtenida:\n",
      "{'took': 63, 'timed_out': False, '_shards': {'total': 1, 'successful': 1, 'skipped': 0, 'failed': 0}, 'hits': {'total': {'value': 32, 'relation': 'eq'}, 'max_score': 10.482474, 'hits': [{'_index': 'spotify-insights', '_id': 'FREMYJYBMkMmnc_OPjLn', '_score': 10.482474, '_source': {'artist_name': 'Hexis', 'track_name': 'Inferis', 'popularity': 10, 'year': 2014, 'genre': 'black-metal', 'danceability': 0.127, 'energy': 0.247, 'loudness': -5.6, 'mode': 1, 'speechiness': 0.0365, 'acousticness': 4.65e-05, 'instrumentalness': 0.604, 'liveness': 0.298, 'valence': 0.0651, 'duration_ms': 536775, 'time_signature': 4}}, {'_index': 'spotify-insights', '_id': 'UREMYJYBMkMmnc_OPjPo', '_score': 10.482474, '_source': {'artist_name': 'Hexis', 'track_name': 'Evinco', 'popularity': 4, 'year': 2014, 'genre': 'black-metal', 'danceability': 0.122, 'energy': 0.032, 'loudness': -4.173, 'mode': 0, 'speechiness': 0.609, 'acousticness': 3.17e-06, 'instrumentalness': 0.878, 'liveness': 0.578, 'valence': 0.284, 'duration_ms': 176587, 'time_signature': 4}}, {'_index': 'spotify-insights', '_id': 'YBEMYJYBMkMmnc_OPjPo', '_score': 10.482474, '_source': {'artist_name': 'Hexis', 'track_name': 'Aspernatio', 'popularity': 5, 'year': 2014, 'genre': 'black-metal', 'danceability': 0.0785, 'energy': 0.522, 'loudness': -3.957, 'mode': 1, 'speechiness': 0.332, 'acousticness': 4.3e-06, 'instrumentalness': 0.981, 'liveness': 0.395, 'valence': 0.0262, 'duration_ms': 98280, 'time_signature': 4}}, {'_index': 'spotify-insights', '_id': 'ZREMYJYBMkMmnc_OPjPo', '_score': 10.482474, '_source': {'artist_name': 'Hexis', 'track_name': 'Crux', 'popularity': 4, 'year': 2014, 'genre': 'black-metal', 'danceability': 0.204, 'energy': 0.631, 'loudness': -5.023, 'mode': 0, 'speechiness': 0.202, 'acousticness': 8.85e-05, 'instrumentalness': 0.949, 'liveness': 0.468, 'valence': 0.155, 'duration_ms': 384773, 'time_signature': 4}}, {'_index': 'spotify-insights', '_id': 'ZhEMYJYBMkMmnc_OPjPo', '_score': 10.482474, '_source': {'artist_name': 'Hexis', 'track_name': 'Procella', 'popularity': 6, 'year': 2014, 'genre': 'black-metal', 'danceability': 0.163, 'energy': 0.909, 'loudness': -3.831, 'mode': 1, 'speechiness': 0.293, 'acousticness': 1.03e-05, 'instrumentalness': 0.995, 'liveness': 0.521, 'valence': 0.0, 'duration_ms': 55507, 'time_signature': 4}}]}, 'aggregations': {'top_tracks': {'doc_count_error_upper_bound': 0, 'sum_other_doc_count': 0, 'buckets': []}}}\n"
     ]
    }
   ],
   "source": [
    "provider = ElasticSearchProvider()\n",
    "name=\"Hexis\"\n",
    "response = provider.showMostPopularbyArtist(name)\n",
    "if response:\n",
    "    print(\"Respuesta obtenida:\")\n",
    "    print(response)\n",
    "else:\n",
    "    print(\"No se obtuvo respuesta válida.\")"
   ]
  },
  {
   "cell_type": "markdown",
   "id": "630f6cc4",
   "metadata": {},
   "source": [
    "3.-Promedio de la popularidad por año."
   ]
  },
  {
   "cell_type": "code",
   "execution_count": 16,
   "id": "bfca5182",
   "metadata": {},
   "outputs": [],
   "source": [
    "def showMostPopularGenrebyYear(self):\n",
    "        try:\n",
    "            response=self.connection.search(\n",
    "                index=self.index,\n",
    "                body={\n",
    "                    \"size\": 0,\n",
    "                    \"aggs\": {\n",
    "                        \"avg_popularity_by_genre\": {\n",
    "                        \"terms\": {\n",
    "                            \"field\": \"genre\",\n",
    "                            \"size\": 20\n",
    "                        },\n",
    "                        \"aggs\": {\n",
    "                            \"avg_popularity\": {\n",
    "                            \"avg\": {\n",
    "                                \"field\": \"popularity\"\n",
    "                            }\n",
    "                            }\n",
    "                        }\n",
    "                        }\n",
    "                    }\n",
    "                    }\n",
    "            )\n",
    "            return response\n",
    "            \n",
    "        except Exception as e:\n",
    "            print(f\"Error: {str(e)}\")\n",
    "\n",
    "ElasticSearchProvider.showMostPopularGenrebyYear=showMostPopularGenrebyYear"
   ]
  },
  {
   "cell_type": "code",
   "execution_count": 17,
   "id": "3bab6bc3",
   "metadata": {},
   "outputs": [
    {
     "name": "stdout",
     "output_type": "stream",
     "text": [
      "Respuesta obtenida:\n",
      "{'took': 466, 'timed_out': False, '_shards': {'total': 1, 'successful': 1, 'skipped': 0, 'failed': 0}, 'hits': {'total': {'value': 10000, 'relation': 'gte'}, 'max_score': None, 'hits': []}, 'aggregations': {'avg_popularity_by_genre': {'doc_count_error_upper_bound': 0, 'sum_other_doc_count': 764097, 'buckets': [{'key': 'black-metal', 'doc_count': 21852, 'avg_popularity': {'value': 11.089968881566904}}, {'key': 'gospel', 'doc_count': 21621, 'avg_popularity': {'value': 18.92040146154202}}, {'key': 'ambient', 'doc_count': 21389, 'avg_popularity': {'value': 20.008742811725654}}, {'key': 'acoustic', 'doc_count': 21097, 'avg_popularity': {'value': 17.825093615205954}}, {'key': 'alt-rock', 'doc_count': 20918, 'avg_popularity': {'value': 38.59680657806674}}, {'key': 'emo', 'doc_count': 20845, 'avg_popularity': {'value': 23.661981290477332}}, {'key': 'indian', 'doc_count': 20583, 'avg_popularity': {'value': 8.790458145071176}}, {'key': 'k-pop', 'doc_count': 20004, 'avg_popularity': {'value': 27.736202759448112}}, {'key': 'new-age', 'doc_count': 19911, 'avg_popularity': {'value': 11.639947767565667}}, {'key': 'blues', 'doc_count': 19682, 'avg_popularity': {'value': 21.620058937099888}}, {'key': 'forro', 'doc_count': 19379, 'avg_popularity': {'value': 11.371278187728985}}, {'key': 'comedy', 'doc_count': 19334, 'avg_popularity': {'value': 10.006827350781007}}, {'key': 'spanish', 'doc_count': 19158, 'avg_popularity': {'value': 23.60392525315795}}, {'key': 'chill', 'doc_count': 18906, 'avg_popularity': {'value': 25.905162382312493}}, {'key': 'dancehall', 'doc_count': 18788, 'avg_popularity': {'value': 14.67761337023632}}, {'key': 'dub', 'doc_count': 18785, 'avg_popularity': {'value': 16.147777482033536}}, {'key': 'samba', 'doc_count': 18599, 'avg_popularity': {'value': 9.647615463196946}}, {'key': 'french', 'doc_count': 18519, 'avg_popularity': {'value': 26.46260597224472}}, {'key': 'classical', 'doc_count': 18259, 'avg_popularity': {'value': 24.903280573963524}}, {'key': 'death-metal', 'doc_count': 18038, 'avg_popularity': {'value': 19.25817718150571}}]}}}\n"
     ]
    }
   ],
   "source": [
    "provider = ElasticSearchProvider()\n",
    "\n",
    "response = provider.showMostPopularGenrebyYear()\n",
    "if response:\n",
    "    print(\"Respuesta obtenida:\")\n",
    "    print(response)\n",
    "else:\n",
    "    print(\"No se obtuvo respuesta válida.\")"
   ]
  },
  {
   "cell_type": "markdown",
   "id": "3a9b4e8e",
   "metadata": {},
   "source": [
    "4.-Top 5 géneros más populares en un año específico."
   ]
  },
  {
   "cell_type": "code",
   "execution_count": 18,
   "id": "af77f182",
   "metadata": {},
   "outputs": [],
   "source": [
    "def showMostPopularGenrebySpecificYear(self,year):\n",
    "        try:\n",
    "            response=self.connection.search(\n",
    "                index=self.index,\n",
    "                body={\n",
    "                    \"size\": 0,\n",
    "                    \"query\": {\n",
    "                        \"term\": {\n",
    "                        \"year\": year\n",
    "                        }\n",
    "                    },\n",
    "                    \"aggs\": {\n",
    "                        \"top_genres\": {\n",
    "                        \"terms\": {\n",
    "                            \"field\": \"genre\",\n",
    "                            \"size\": 5\n",
    "                        },\n",
    "                        \"aggs\": {\n",
    "                            \"avg_popularity\": {\n",
    "                            \"avg\": {\n",
    "                                \"field\": \"popularity\"\n",
    "                            }\n",
    "                            }\n",
    "                        }\n",
    "                        }\n",
    "                    }\n",
    "                    }\n",
    "            )\n",
    "            return response\n",
    "            \n",
    "        except Exception as e:\n",
    "            print(f\"Error: {str(e)}\")\n",
    "ElasticSearchProvider.showMostPopularGenrebySpecificYear=showMostPopularGenrebySpecificYear"
   ]
  },
  {
   "cell_type": "code",
   "execution_count": 19,
   "id": "f0ae622c",
   "metadata": {},
   "outputs": [
    {
     "name": "stdout",
     "output_type": "stream",
     "text": [
      "Respuesta obtenida:\n",
      "{'took': 6, 'timed_out': False, '_shards': {'total': 1, 'successful': 1, 'skipped': 0, 'failed': 0}, 'hits': {'total': {'value': 10000, 'relation': 'gte'}, 'max_score': None, 'hits': []}, 'aggregations': {'top_genres': {'doc_count_error_upper_bound': 0, 'sum_other_doc_count': 50302, 'buckets': [{'key': 'comedy', 'doc_count': 973, 'avg_popularity': {'value': 11.828365878725592}}, {'key': 'chill', 'doc_count': 965, 'avg_popularity': {'value': 45.63316062176166}}, {'key': 'acoustic', 'doc_count': 951, 'avg_popularity': {'value': 29.52155625657203}}, {'key': 'sleep', 'doc_count': 939, 'avg_popularity': {'value': 28.78168264110756}}, {'key': 'indian', 'doc_count': 936, 'avg_popularity': {'value': 21.661324786324787}}]}}}\n"
     ]
    }
   ],
   "source": [
    "provider = ElasticSearchProvider()\n",
    "year=1577836800000\n",
    "response = provider.showMostPopularGenrebySpecificYear(year)\n",
    "if response:\n",
    "    print(\"Respuesta obtenida:\")\n",
    "    print(response)\n",
    "else:\n",
    "    print(\"No se obtuvo respuesta válida.\")"
   ]
  },
  {
   "cell_type": "markdown",
   "id": "cadfca92",
   "metadata": {},
   "source": [
    "5.-Top 10 canciones con la mayor energía."
   ]
  },
  {
   "cell_type": "code",
   "execution_count": 20,
   "id": "b46618c2",
   "metadata": {},
   "outputs": [],
   "source": [
    "def showSongsWhittheMostEnegy(self):\n",
    "        try:\n",
    "            response=self.connection.search(\n",
    "                index=self.index,\n",
    "                body={\n",
    "                    \"size\": 0,\n",
    "                    \"aggs\": {\n",
    "                        \"top_energy_songs\": {\n",
    "                        \"top_hits\": {\n",
    "                            \"size\": 10,\n",
    "                            \"_source\": [\"track_name\", \"artist_name\", \"energy\"],\n",
    "                            \"sort\": [\n",
    "                            {\n",
    "                                \"energy\": {\n",
    "                                \"order\": \"desc\"\n",
    "                                }\n",
    "                            }\n",
    "                            ]\n",
    "                        }\n",
    "                        }\n",
    "                    }\n",
    "                    }\n",
    "            )\n",
    "            return response\n",
    "            \n",
    "        except Exception as e:\n",
    "            print(f\"Error: {str(e)}\")\n",
    "            \n",
    "ElasticSearchProvider.showSongsWhittheMostEnegy=showSongsWhittheMostEnegy"
   ]
  },
  {
   "cell_type": "code",
   "execution_count": 21,
   "id": "b7a80036",
   "metadata": {},
   "outputs": [
    {
     "name": "stdout",
     "output_type": "stream",
     "text": [
      "Respuesta obtenida:\n",
      "{'took': 18, 'timed_out': False, '_shards': {'total': 1, 'successful': 1, 'skipped': 0, 'failed': 0}, 'hits': {'total': {'value': 10000, 'relation': 'gte'}, 'max_score': None, 'hits': []}, 'aggregations': {'top_energy_songs': {'hits': {'total': {'value': 1159764, 'relation': 'eq'}, 'max_score': None, 'hits': [{'_index': 'spotify-insights', '_id': 'rRsOYJYBMkMmnc_OKuIO', '_score': None, '_source': {'artist_name': 'Cascada', 'track_name': '(I Need A) Miracle [S.A.D. Radio Mix]', 'energy': 1.0}, 'sort': [1.0]}, {'_index': 'spotify-insights', '_id': 'PxwOYJYBMkMmnc_OMR9Q', '_score': None, '_source': {'artist_name': 'The Casualties', 'track_name': 'Leaders of Today', 'energy': 1.0}, 'sort': [1.0]}, {'_index': 'spotify-insights', '_id': 'yhwOYJYBMkMmnc_ONDIj', '_score': None, '_source': {'artist_name': 'Nature Recordings', 'track_name': 'Static Rains', 'energy': 1.0}, 'sort': [1.0]}, {'_index': 'spotify-insights', '_id': 'yxwOYJYBMkMmnc_ONDIj', '_score': None, '_source': {'artist_name': 'Rain for Deep Sleep', 'track_name': 'Static Rains', 'energy': 1.0}, 'sort': [1.0]}, {'_index': 'spotify-insights', '_id': '3hwOYJYBMkMmnc_ONDIj', '_score': None, '_source': {'artist_name': 'Nature Recordings', 'track_name': 'Rolling Forest Rains', 'energy': 1.0}, 'sort': [1.0]}, {'_index': 'spotify-insights', '_id': 'LBwOYJYBMkMmnc_ONDQk', '_score': None, '_source': {'artist_name': 'Deep Sleep Music Academy', 'track_name': 'Rolling Forest Rains', 'energy': 1.0}, 'sort': [1.0]}, {'_index': 'spotify-insights', '_id': 'PxwOYJYBMkMmnc_ONDQk', '_score': None, '_source': {'artist_name': 'Deep Sleep Music Academy', 'track_name': 'Static Rains', 'energy': 1.0}, 'sort': [1.0]}, {'_index': 'spotify-insights', '_id': 'xhwOYJYBMkMmnc_ONT_u', '_score': None, '_source': {'artist_name': 'Axel Coon', 'track_name': 'Lamenting City - Lacoon Remix', 'energy': 1.0}, 'sort': [1.0]}, {'_index': 'spotify-insights', '_id': 'xRwOYJYBMkMmnc_ON02L', '_score': None, '_source': {'artist_name': 'Absu', 'track_name': 'And Shineth Unto The Cold Cometh... Including Prelusion To Cythràul', 'energy': 1.0}, 'sort': [1.0]}, {'_index': 'spotify-insights', '_id': '_BwOYJYBMkMmnc_OQImS', '_score': None, '_source': {'artist_name': 'Coachwhips', 'track_name': 'Did You Cum?', 'energy': 1.0}, 'sort': [1.0]}]}}}}\n"
     ]
    }
   ],
   "source": [
    "provider = ElasticSearchProvider()\n",
    "response = provider.showSongsWhittheMostEnegy()\n",
    "if response:\n",
    "    print(\"Respuesta obtenida:\")\n",
    "    print(response)\n",
    "else:\n",
    "    print(\"No se obtuvo respuesta válida.\")"
   ]
  },
  {
   "cell_type": "markdown",
   "id": "e4033deb",
   "metadata": {},
   "source": [
    "6-. Top 10 canciones más \"acústicas\"."
   ]
  },
  {
   "cell_type": "code",
   "execution_count": null,
   "id": "41ccc273",
   "metadata": {},
   "outputs": [],
   "source": [
    "def showSongsWhitMostAcustic(self):\n",
    "        try:\n",
    "            response=self.connection.search(\n",
    "                index=self.index,\n",
    "                body={\n",
    "                    \"size\": 0,\n",
    "                    \"aggs\": {\n",
    "                        \"top_acoustic_songs\": {\n",
    "                        \"top_hits\": {\n",
    "                            \"size\": 10,\n",
    "                            \"_source\": [\"track_name\", \"artist_name\", \"acousticness\"],\n",
    "                            \"sort\": [\n",
    "                            {\n",
    "                                \"acousticness\": {\n",
    "                                \"order\": \"desc\"\n",
    "                                }\n",
    "                            }\n",
    "                            ]\n",
    "                        }\n",
    "                        }\n",
    "                    }\n",
    "                    }\n",
    "            )\n",
    "            return response\n",
    "            \n",
    "        except Exception as e:\n",
    "            print(f\"Error: {str(e)}\")\n",
    "ElasticSearchProvider.showSongsWhitMostAcustic=showSongsWhitMostAcustic"
   ]
  },
  {
   "cell_type": "code",
   "execution_count": 23,
   "id": "d0273ee4",
   "metadata": {},
   "outputs": [
    {
     "ename": "AttributeError",
     "evalue": "'ElasticSearchProvider' object has no attribute 'showSongsWhitMostAcustic'",
     "output_type": "error",
     "traceback": [
      "\u001b[31m---------------------------------------------------------------------------\u001b[39m",
      "\u001b[31mAttributeError\u001b[39m                            Traceback (most recent call last)",
      "\u001b[36mCell\u001b[39m\u001b[36m \u001b[39m\u001b[32mIn[23]\u001b[39m\u001b[32m, line 2\u001b[39m\n\u001b[32m      1\u001b[39m provider = ElasticSearchProvider()\n\u001b[32m----> \u001b[39m\u001b[32m2\u001b[39m response = \u001b[43mprovider\u001b[49m\u001b[43m.\u001b[49m\u001b[43mshowSongsWhitMostAcustic\u001b[49m()\n\u001b[32m      3\u001b[39m \u001b[38;5;28;01mif\u001b[39;00m response:\n\u001b[32m      4\u001b[39m     \u001b[38;5;28mprint\u001b[39m(\u001b[33m\"\u001b[39m\u001b[33mRespuesta obtenida:\u001b[39m\u001b[33m\"\u001b[39m)\n",
      "\u001b[31mAttributeError\u001b[39m: 'ElasticSearchProvider' object has no attribute 'showSongsWhitMostAcustic'"
     ]
    }
   ],
   "source": [
    "provider = ElasticSearchProvider()\n",
    "response = provider.showSongsWhitMostAcustic()\n",
    "if response:\n",
    "    print(\"Respuesta obtenida:\")\n",
    "    print(response)\n",
    "else:\n",
    "    print(\"No se obtuvo respuesta válida.\")"
   ]
  },
  {
   "cell_type": "markdown",
   "id": "0eeeacdf",
   "metadata": {},
   "source": [
    "7.- Promedio de \"valence\" por año."
   ]
  },
  {
   "cell_type": "code",
   "execution_count": null,
   "id": "bf0692b6",
   "metadata": {},
   "outputs": [],
   "source": [
    "def showPromValencebyYear(self):\n",
    "        try:\n",
    "            response=self.connection.search(\n",
    "                index=self.index,\n",
    "                body={\n",
    "                    \"size\": 0,\n",
    "                    \"aggs\": {\n",
    "                        \"avg_valence_by_year\": {\n",
    "                        \"terms\": {\n",
    "                            \"field\": \"year\",\n",
    "                            \"size\": 10000  \n",
    "                        },\n",
    "                        \"aggs\": {\n",
    "                            \"avg_valence\": {\n",
    "                            \"avg\": {\n",
    "                                \"field\": \"valence\"\n",
    "                            }\n",
    "                            }\n",
    "                        }\n",
    "                        }\n",
    "                    }\n",
    "                    }\n",
    "            )\n",
    "            return response\n",
    "            \n",
    "        except Exception as e:\n",
    "            print(f\"Error: {str(e)}\")\n",
    "            \n",
    "ElasticSearchProvider.showPromValencebyYear=showPromValencebyYear"
   ]
  },
  {
   "cell_type": "code",
   "execution_count": null,
   "id": "d68d7089",
   "metadata": {},
   "outputs": [],
   "source": [
    "provider = ElasticSearchProvider()\n",
    "response = provider.showPromValencebyYear()\n",
    "if response:\n",
    "    print(\"Respuesta obtenida:\")\n",
    "    print(response)\n",
    "else:\n",
    "    print(\"No se obtuvo respuesta válida.\")"
   ]
  },
  {
   "cell_type": "markdown",
   "id": "2ed11fb1",
   "metadata": {},
   "source": [
    "8.- Distribución de las canciones por \"mode\" (mayoría mayor o menor)."
   ]
  },
  {
   "cell_type": "code",
   "execution_count": null,
   "id": "4562bf0b",
   "metadata": {},
   "outputs": [],
   "source": [
    "def showModebySongs(self):\n",
    "        try:\n",
    "            response=self.connection.search(\n",
    "                index=self.index,\n",
    "                body={\n",
    "                    \"size\": 0,\n",
    "                    \"aggs\": {\n",
    "                        \"mode_distribution\": {\n",
    "                        \"terms\": {\n",
    "                            \"field\": \"mode\",\n",
    "                            \"size\": 10\n",
    "                        },\n",
    "                        \"aggs\": {\n",
    "                            \"count_by_mode\": {\n",
    "                            \"value_count\": {\n",
    "                                \"field\": \"mode\"\n",
    "                            }\n",
    "                            }\n",
    "                        }\n",
    "                        }\n",
    "                    }\n",
    "                    }\n",
    "            )\n",
    "            return response\n",
    "            \n",
    "        except Exception as e:\n",
    "            print(f\"Error: {str(e)}\")\n",
    "\n",
    "ElasticSearchProvider.showModebySongs=showModebySongs"
   ]
  },
  {
   "cell_type": "code",
   "execution_count": null,
   "id": "e7c95851",
   "metadata": {},
   "outputs": [],
   "source": [
    "provider = ElasticSearchProvider()\n",
    "response = provider.showModebySongs()\n",
    "if response:\n",
    "    print(\"Respuesta obtenida:\")\n",
    "    print(response)\n",
    "else:\n",
    "    print(\"No se obtuvo respuesta válida.\")"
   ]
  },
  {
   "cell_type": "markdown",
   "id": "5ba7f214",
   "metadata": {},
   "source": [
    "9.- Promedio de duración de canciones por género."
   ]
  },
  {
   "cell_type": "code",
   "execution_count": null,
   "id": "2032086c",
   "metadata": {},
   "outputs": [],
   "source": [
    "def showDurationBySongs(self):\n",
    "        try:\n",
    "            response=self.connection.search(\n",
    "                index=self.index,\n",
    "                body={\n",
    "                    \"size\": 0,\n",
    "                    \"aggs\": {\n",
    "                        \"genres\": {\n",
    "                        \"terms\": {\n",
    "                            \"field\": \"genre\",  \n",
    "                            \"size\": 20\n",
    "                        },\n",
    "                        \"aggs\": {\n",
    "                            \"avg_duration\": {\n",
    "                            \"avg\": {\n",
    "                                \"field\": \"duration_ms\" \n",
    "                            }\n",
    "                            }\n",
    "                        }\n",
    "                        }\n",
    "                    }\n",
    "                    }\n",
    "            )\n",
    "            return response\n",
    "            \n",
    "        except Exception as e:\n",
    "            print(f\"Error: {str(e)}\")\n",
    "            \n",
    "ElasticSearchProvider.showDurationBySongs=showDurationBySongs"
   ]
  },
  {
   "cell_type": "code",
   "execution_count": null,
   "id": "7545e834",
   "metadata": {},
   "outputs": [],
   "source": [
    "provider = ElasticSearchProvider()\n",
    "response = provider.showDurationBySongs()\n",
    "if response:\n",
    "    print(\"Respuesta obtenida:\")\n",
    "    print(response)\n",
    "else:\n",
    "    print(\"No se obtuvo respuesta válida.\")"
   ]
  },
  {
   "cell_type": "markdown",
   "id": "75bdedc0",
   "metadata": {},
   "source": [
    "10.- Top 10 canciones más \"loud\"."
   ]
  },
  {
   "cell_type": "code",
   "execution_count": null,
   "id": "71464a28",
   "metadata": {},
   "outputs": [],
   "source": [
    "def showSongsWhitMostLoud(self):\n",
    "        try:\n",
    "            response=self.connection.search(\n",
    "                index=self.index,\n",
    "                body={\n",
    "                    \"size\": 10,\n",
    "                    \"sort\": [\n",
    "                        {\n",
    "                        \"loudness\": {\n",
    "                            \"order\": \"desc\"  \n",
    "                        }\n",
    "                        }\n",
    "                    ],\n",
    "                    \"_source\": [\"track_name\", \"artist_name\", \"loudness\"]  \n",
    "                    }\n",
    "            )\n",
    "            return response\n",
    "            \n",
    "        except Exception as e:\n",
    "            print(f\"Error: {str(e)}\")\n",
    "            \n",
    "ElasticSearchProvider.showSongsWhitMostLoud=showSongsWhitMostLoud"
   ]
  },
  {
   "cell_type": "code",
   "execution_count": null,
   "id": "bf14ea7b",
   "metadata": {},
   "outputs": [],
   "source": [
    "provider = ElasticSearchProvider()\n",
    "response = provider.showSongsWhitMostLoud()\n",
    "if response:\n",
    "    print(\"Respuesta obtenida:\")\n",
    "    print(response)\n",
    "else:\n",
    "    print(\"No se obtuvo respuesta válida.\")"
   ]
  },
  {
   "cell_type": "markdown",
   "id": "c387a991",
   "metadata": {},
   "source": [
    "11.-Top 10 canciones con mayor \"speechiness\"."
   ]
  },
  {
   "cell_type": "code",
   "execution_count": null,
   "id": "6289d1c0",
   "metadata": {},
   "outputs": [],
   "source": [
    "def showSongsWhitMostSpeech(self):\n",
    "        try:\n",
    "            response=self.connection.search(\n",
    "                index=self.index,\n",
    "                body={\n",
    "                    \"size\": 10,\n",
    "                    \"sort\": [\n",
    "                        {\n",
    "                        \"speechiness\": {\n",
    "                            \"order\": \"desc\"  \n",
    "                        }\n",
    "                        }\n",
    "                    ],\n",
    "                    \"_source\": [\"track_name\", \"artist_name\", \"speechiness\"] \n",
    "                    }\n",
    "            )\n",
    "            return response\n",
    "            \n",
    "        except Exception as e:\n",
    "            print(f\"Error: {str(e)}\")\n",
    "            \n",
    "ElasticSearchProvider.showSongsWhitMostSpeech=showSongsWhitMostSpeech"
   ]
  },
  {
   "cell_type": "code",
   "execution_count": null,
   "id": "c6a836c3",
   "metadata": {},
   "outputs": [],
   "source": [
    "provider = ElasticSearchProvider()\n",
    "response = provider.showSongsWhitMostSpeech()\n",
    "if response:\n",
    "    print(\"Respuesta obtenida:\")\n",
    "    print(response)\n",
    "else:\n",
    "    print(\"No se obtuvo respuesta válida.\")"
   ]
  },
  {
   "cell_type": "markdown",
   "id": "64831e72",
   "metadata": {},
   "source": [
    "12.-Distribución de los valores de \"time_signature\"."
   ]
  },
  {
   "cell_type": "code",
   "execution_count": null,
   "id": "9d7cdbe0",
   "metadata": {},
   "outputs": [],
   "source": [
    "def showTimeSignature(self):\n",
    "        try:\n",
    "            response=self.connection.search(\n",
    "                index=self.index,\n",
    "                body={\n",
    "                    \"size\": 0,\n",
    "                    \"aggs\": {\n",
    "                        \"time_signature_distribution\": {\n",
    "                        \"terms\": {\n",
    "                            \"field\": \"time_signature\",\n",
    "                            \"size\": 5  \n",
    "                        }\n",
    "                        }\n",
    "                    }\n",
    "                    }\n",
    "            )\n",
    "            return response\n",
    "            \n",
    "        except Exception as e:\n",
    "            print(f\"Error: {str(e)}\")\n",
    "            \n",
    "ElasticSearchProvider.showTimeSignature=showTimeSignature"
   ]
  },
  {
   "cell_type": "code",
   "execution_count": null,
   "id": "4d4a8cec",
   "metadata": {},
   "outputs": [],
   "source": [
    "provider = ElasticSearchProvider()\n",
    "response = provider.showTimeSignature()\n",
    "if response:\n",
    "    print(\"Respuesta obtenida:\")\n",
    "    print(response)\n",
    "else:\n",
    "    print(\"No se obtuvo respuesta válida.\")"
   ]
  },
  {
   "cell_type": "markdown",
   "id": "ecfc435b",
   "metadata": {},
   "source": [
    "13.-Top 10 canciones con mayor \"instrumentalness\"."
   ]
  },
  {
   "cell_type": "code",
   "execution_count": null,
   "id": "19c8a17c",
   "metadata": {},
   "outputs": [],
   "source": [
    "def showInstrumental(self):\n",
    "        try:\n",
    "            response=self.connection.search(\n",
    "                index=self.index,\n",
    "                body={\n",
    "                    \"size\": 10,\n",
    "                    \"sort\": [\n",
    "                        {\n",
    "                        \"instrumentalness\": {\n",
    "                            \"order\": \"desc\"\n",
    "                        }\n",
    "                        }\n",
    "                    ],\n",
    "                    \"_source\": [\"track_name\", \"artist_name\", \"instrumentalness\"]\n",
    "                    }\n",
    "            )\n",
    "            return response\n",
    "            \n",
    "        except Exception as e:\n",
    "            print(f\"Error: {str(e)}\")\n",
    "\n",
    "ElasticSearchProvider.showInstrumental=showInstrumental"
   ]
  },
  {
   "cell_type": "code",
   "execution_count": null,
   "id": "fb73822e",
   "metadata": {},
   "outputs": [],
   "source": [
    "provider = ElasticSearchProvider()\n",
    "response = provider.showInstrumental()\n",
    "if response:\n",
    "    print(\"Respuesta obtenida:\")\n",
    "    print(response)\n",
    "else:\n",
    "    print(\"No se obtuvo respuesta válida.\")"
   ]
  },
  {
   "cell_type": "markdown",
   "id": "7ad87b12",
   "metadata": {},
   "source": [
    "14.- Las 10 canciones mas populares "
   ]
  },
  {
   "cell_type": "code",
   "execution_count": null,
   "id": "c3a64f46",
   "metadata": {},
   "outputs": [],
   "source": [
    "def showMorePopularitySongs(self):\n",
    "        try:\n",
    "            response=self.connection.search(\n",
    "                index=self.index,\n",
    "                body={\n",
    "                    \"size\": 10,\n",
    "                    \"sort\": [\n",
    "                        {\n",
    "                        \"popularity\": {\n",
    "                            \"order\": \"desc\"\n",
    "                        }\n",
    "                        }\n",
    "                    ],\n",
    "                    \"_source\": [\"track_name\", \"artist_name\", \"popularity\"]\n",
    "                    }\n",
    "            )\n",
    "            return response\n",
    "            \n",
    "        except Exception as e:\n",
    "            print(f\"Error: {str(e)}\")\n",
    "            \n",
    "ElasticSearchProvider.showMorePopularitySongs=showMorePopularitySongs"
   ]
  },
  {
   "cell_type": "code",
   "execution_count": null,
   "id": "edbea0a1",
   "metadata": {},
   "outputs": [],
   "source": [
    "provider = ElasticSearchProvider()\n",
    "response = provider.showMorePopularitySongs()\n",
    "if response:\n",
    "    print(\"Respuesta obtenida:\")\n",
    "    print(response)\n",
    "else:\n",
    "    print(\"No se obtuvo respuesta válida.\")"
   ]
  },
  {
   "cell_type": "markdown",
   "id": "855be8d2",
   "metadata": {},
   "source": [
    "15.- las 10 canciones mas largas "
   ]
  },
  {
   "cell_type": "code",
   "execution_count": null,
   "id": "2a3a4564",
   "metadata": {},
   "outputs": [],
   "source": [
    "def showMoreLongSongs(self):\n",
    "        try:\n",
    "            response=self.connection.search(\n",
    "                index=self.index,\n",
    "                body={\n",
    "                    \"size\": 10,\n",
    "                    \"sort\": [\n",
    "                        {\n",
    "                        \"duration_ms\": {\n",
    "                            \"order\": \"desc\"\n",
    "                        }\n",
    "                        }\n",
    "                    ],\n",
    "                    \"_source\": [\"track_name\", \"artist_name\", \"duration_ms\"]\n",
    "                    }\n",
    "            )\n",
    "            return response\n",
    "            \n",
    "        except Exception as e:\n",
    "            print(f\"Error: {str(e)}\")\n",
    "\n",
    "ElasticSearchProvider.showMoreLongSongs=showMoreLongSongs"
   ]
  },
  {
   "cell_type": "code",
   "execution_count": null,
   "id": "8a2e0f1b",
   "metadata": {},
   "outputs": [],
   "source": [
    "provider = ElasticSearchProvider()\n",
    "response = provider.showMoreLongSongs()\n",
    "if response:\n",
    "    print(\"Respuesta obtenida:\")\n",
    "    print(response)\n",
    "else:\n",
    "    print(\"No se obtuvo respuesta válida.\")"
   ]
  }
 ],
 "metadata": {
  "kernelspec": {
   "display_name": "Python 3",
   "language": "python",
   "name": "python3"
  },
  "language_info": {
   "codemirror_mode": {
    "name": "ipython",
    "version": 3
   },
   "file_extension": ".py",
   "mimetype": "text/x-python",
   "name": "python",
   "nbconvert_exporter": "python",
   "pygments_lexer": "ipython3",
   "version": "3.13.0"
  }
 },
 "nbformat": 4,
 "nbformat_minor": 5
}
